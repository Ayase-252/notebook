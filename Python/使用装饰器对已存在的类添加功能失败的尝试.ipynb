{
 "cells": [
  {
   "cell_type": "markdown",
   "metadata": {
    "deletable": true,
    "editable": true
   },
   "source": [
    "# 使用装饰器对已存在的类添加功能失败的尝试\n",
    "\n",
    "最近在yotsuha项目中，我打算使用Python内置的decorator功能尝试对已存在的类添加功能。但是，由于类内部无法访问由装饰器添加的功能，因而失败。现在整个项目将寻找另外的一种方法解决代码重复问题。\n",
    "\n",
    "## 动机\n",
    "现在项目里，有两个类`YandereCrawler`与`AsyncRequestScheduler`。前者实现了一个爬虫类，用于爬取`yande.re`网站上面的图片，而后者是利用`requests`库实现的一个可以按照指定的时间间隔发送网络请求的类。现在的工作是想将这两个类中有关显示的部分重构为一个单独的类。我打算使用观察者模式，当上述两者发生动作时，就发送一个通知给所有的观察者。通过一个API可以调取需要的数据。\n",
    "\n",
    "但是在实现中，我发现了这两个类中间出现了粘贴复制式的重复：\n",
    "\n",
    "    class YandereCralwer:\n",
    "        def __init__(self, ...):\n",
    "            # Other initalization\n",
    "            ...\n",
    "            self._observable = Observable\n",
    "        \n",
    "        def observe(self, observer_func):\n",
    "            self._observable.register(observer_func)\n",
    "            \n",
    "        def _notify(self, event):\n",
    "            self._observable.notify({\n",
    "                'event': event\n",
    "            })\n",
    "        # Other methods\n",
    "        ...\n",
    "        \n",
    "    class AsyncRequestScheduler:\n",
    "        def __init__(self, ...):\n",
    "        # Other initalization\n",
    "        ...\n",
    "        self._observable = Observable\n",
    "        \n",
    "        def observe(self, observer_func):\n",
    "            self._observable.register(observer_func)\n",
    "            \n",
    "        def _notify(self, event):\n",
    "            self._observable.notify({\n",
    "                'event': event\n",
    "            })\n",
    "        # Other methods\n",
    "        ...\n",
    "        \n",
    "当出现这种情况时，显然应该针对两个类都是Observable的进行一定的重构。\n",
    "\n",
    "## 失败的方法\n",
    "为了不修改原有的代码，并且能够添加上我所需要的功能，我使用了`class decorator`。它是一种语法糖，可以在被装饰的class的定义，之后动态地绑定到被装饰的class中。如：\n",
    "    \n",
    "    @decorator\n",
    "    class SomeClass:\n",
    "        ...\n",
    "        \n",
    "    class SomeClass:\n",
    "        ...\n",
    "    SomeClass = decorator()(SomeClass)\n",
    "    \n",
    "上述两种形式在语义上是等价的。\n",
    "\n",
    "《Learning Python》中提出了一种通过`class decorator`增强原有类的方法，其中`decorator`的写法如下：\n",
    "\n",
    "    def decorator(class_):\n",
    "        class Wrapper:\n",
    "            def __init__(self, *args, **kwargs):\n",
    "                self.wrapped = class_(*args, **kwargs)\n",
    "            \n",
    "            def argument(self):\n",
    "                print('calling argument.')\n",
    "            \n",
    "            def __getattr__(self, name):\n",
    "                return getattr(self.wrapped, name)\n",
    "                \n",
    "        return Wrapped\n",
    "\n",
    "这种方法可以通过使用`decorator`装饰某个类，将`argument`方法加载到被装饰的类中。同时保留原有类的所有方法（通过`__getattr__`）。这个方法在下面的cell中，我们将会演示这种方法的效果。"
   ]
  },
  {
   "cell_type": "code",
   "execution_count": 5,
   "metadata": {
    "collapsed": false,
    "deletable": true,
    "editable": true,
    "scrolled": true
   },
   "outputs": [
    {
     "name": "stdout",
     "output_type": "stream",
     "text": [
      "Print from A\n",
      "calling argument.\n",
      "call from A\n"
     ]
    },
    {
     "ename": "AttributeError",
     "evalue": "'A' object has no attribute 'argument'",
     "output_type": "error",
     "traceback": [
      "\u001b[0;31m---------------------------------------------------------------------------\u001b[0m",
      "\u001b[0;31mAttributeError\u001b[0m                            Traceback (most recent call last)",
      "\u001b[0;32m<ipython-input-5-3d892f5b065b>\u001b[0m in \u001b[0;36m<module>\u001b[0;34m()\u001b[0m\n\u001b[1;32m     23\u001b[0m \u001b[0minstance\u001b[0m\u001b[0;34m.\u001b[0m\u001b[0mprint_info\u001b[0m\u001b[0;34m(\u001b[0m\u001b[0;34m)\u001b[0m\u001b[0;34m\u001b[0m\u001b[0m\n\u001b[1;32m     24\u001b[0m \u001b[0minstance\u001b[0m\u001b[0;34m.\u001b[0m\u001b[0margument\u001b[0m\u001b[0;34m(\u001b[0m\u001b[0;34m)\u001b[0m\u001b[0;34m\u001b[0m\u001b[0m\n\u001b[0;32m---> 25\u001b[0;31m \u001b[0minstance\u001b[0m\u001b[0;34m.\u001b[0m\u001b[0mcannot_call_from_here\u001b[0m\u001b[0;34m(\u001b[0m\u001b[0;34m)\u001b[0m\u001b[0;34m\u001b[0m\u001b[0m\n\u001b[0m",
      "\u001b[0;32m<ipython-input-5-3d892f5b065b>\u001b[0m in \u001b[0;36mcannot_call_from_here\u001b[0;34m(self)\u001b[0m\n\u001b[1;32m     18\u001b[0m     \u001b[0;32mdef\u001b[0m \u001b[0mcannot_call_from_here\u001b[0m\u001b[0;34m(\u001b[0m\u001b[0mself\u001b[0m\u001b[0;34m)\u001b[0m\u001b[0;34m:\u001b[0m\u001b[0;34m\u001b[0m\u001b[0m\n\u001b[1;32m     19\u001b[0m         \u001b[0mprint\u001b[0m\u001b[0;34m(\u001b[0m\u001b[0;34m'call from A'\u001b[0m\u001b[0;34m)\u001b[0m\u001b[0;34m\u001b[0m\u001b[0m\n\u001b[0;32m---> 20\u001b[0;31m         \u001b[0mself\u001b[0m\u001b[0;34m.\u001b[0m\u001b[0margument\u001b[0m\u001b[0;34m(\u001b[0m\u001b[0;34m)\u001b[0m\u001b[0;34m\u001b[0m\u001b[0m\n\u001b[0m\u001b[1;32m     21\u001b[0m \u001b[0;34m\u001b[0m\u001b[0m\n\u001b[1;32m     22\u001b[0m \u001b[0minstance\u001b[0m \u001b[0;34m=\u001b[0m \u001b[0mA\u001b[0m\u001b[0;34m(\u001b[0m\u001b[0;34m)\u001b[0m\u001b[0;34m\u001b[0m\u001b[0m\n",
      "\u001b[0;31mAttributeError\u001b[0m: 'A' object has no attribute 'argument'"
     ]
    }
   ],
   "source": [
    "def decorator(class_):\n",
    "    class Wrapper:\n",
    "        def __init__(self, *args, **kwargs):\n",
    "            self.wrapped = class_(*args, **kwargs)\n",
    "\n",
    "        def argument(self):\n",
    "            print('calling argument.')\n",
    "\n",
    "        def __getattr__(self, name):\n",
    "            return getattr(self.wrapped, name)\n",
    "    return Wrapper\n",
    "\n",
    "@decorator\n",
    "class A:\n",
    "    def print_info(self):\n",
    "        print('Print from A')\n",
    "        \n",
    "    def cannot_call_from_here(self):\n",
    "        print('call from A')\n",
    "        self.argument()\n",
    "\n",
    "instance = A()\n",
    "instance.print_info()\n",
    "instance.argument()\n",
    "instance.cannot_call_from_here()"
   ]
  },
  {
   "cell_type": "markdown",
   "metadata": {},
   "source": [
    "从上面可以看到，**从外部**可以调用装饰器所带来的新方法。但是**从内部**，我们原有的类却不知道装饰器的存在。当然，这个结论是合理的。*被装饰的类当然不知道会有什么类去装饰自己。*\n",
    "因此，通过装饰器这种方式添加对外的接口是可行的。但是，被装饰类无法调用，这不符合我们的需求。"
   ]
  }
 ],
 "metadata": {
  "kernelspec": {
   "display_name": "Python 3",
   "language": "python",
   "name": "python3"
  },
  "language_info": {
   "codemirror_mode": {
    "name": "ipython",
    "version": 3
   },
   "file_extension": ".py",
   "mimetype": "text/x-python",
   "name": "python",
   "nbconvert_exporter": "python",
   "pygments_lexer": "ipython3",
   "version": "3.5.2+"
  }
 },
 "nbformat": 4,
 "nbformat_minor": 2
}
