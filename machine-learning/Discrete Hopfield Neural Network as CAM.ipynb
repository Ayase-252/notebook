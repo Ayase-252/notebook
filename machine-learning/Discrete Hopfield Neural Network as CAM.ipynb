{
 "cells": [
  {
   "cell_type": "markdown",
   "metadata": {},
   "source": [
    "# Demo: Discrete Hopfield Nerual Network as CAM\n",
    "\n",
    "## 1. Storage\n",
    "\n",
    "$$W=\\frac{1}{N}\\sum_{\\mu=1}^M\\xi_\\mu \\xi_mu^T - MI$$\n",
    "where $w_{ii} = 0$\n",
    "\n",
    "// HAVE NOT COMPLETED"
   ]
  },
  {
   "cell_type": "code",
   "execution_count": 1,
   "metadata": {
    "collapsed": true
   },
   "outputs": [],
   "source": [
    "import numpy as np\n",
    "from random import choice\n",
    "\n",
    "class Hopfield:\n",
    "    \n",
    "    def __init__(self, dim_target):\n",
    "        self._dim_target = dim_target\n",
    "        self._weight = np.zeros((dim_target, dim_target))\n",
    "        \n",
    "    def storage(self, num_target, mat_target):\n",
    "        for i in range(num_target):\n",
    "            xi = np.transpose(mat_target[i,:])\n",
    "            self._weight += xi * np.transpose(xi) / num_target     \n",
    "        for i in range(self._dim_target):\n",
    "            self._weight[i,i] = 0\n",
    "            \n",
    "    def retrieve(self, probe):\n",
    "        output = probe\n",
    "        unchange_time = 0\n",
    "        while unchange_time < 10:\n",
    "            j = choice(range(self._dim_target))\n",
    "            old = output[0, j]\n",
    "            temp = self._weight[j,:] * np.transpose(np.matrix([output[0, j]] * self._dim_target))\n",
    "            if temp > 0:\n",
    "                output[0, j] = 1\n",
    "            elif temp < 0:\n",
    "                output[0, j] = -1\n",
    "            if old == output[0, j]:\n",
    "                unchange_time += 1\n",
    "            else:\n",
    "                unchange_time = 0\n",
    "        return output"
   ]
  },
  {
   "cell_type": "code",
   "execution_count": 2,
   "metadata": {
    "collapsed": false
   },
   "outputs": [
    {
     "name": "stdout",
     "output_type": "stream",
     "text": [
      "Sample: \n",
      "[[-1  1 -1]\n",
      " [-1 -1  1]]\n",
      "Probe: \n",
      "[[-1  1  1]]\n",
      "Output: \n",
      "[[-1  1 -1]]\n"
     ]
    }
   ],
   "source": [
    "sample = np.matrix([[-1, 1, -1], [-1, -1, 1]])\n",
    "print('Sample: \\n{}'.format(sample))\n",
    "hnn = Hopfield(3)\n",
    "hnn.storage(2, sample)\n",
    "\n",
    "probe = np.matrix([[-1, 1, 1]])\n",
    "print('Probe: \\n{}'.format(probe))\n",
    "\n",
    "output = hnn.retrieve(probe)\n",
    "print('Output: \\n{}'.format(output))"
   ]
  }
 ],
 "metadata": {
  "kernelspec": {
   "display_name": "Python 3",
   "language": "python",
   "name": "python3"
  },
  "language_info": {
   "codemirror_mode": {
    "name": "ipython",
    "version": 3
   },
   "file_extension": ".py",
   "mimetype": "text/x-python",
   "name": "python",
   "nbconvert_exporter": "python",
   "pygments_lexer": "ipython3",
   "version": "3.6.0"
  }
 },
 "nbformat": 4,
 "nbformat_minor": 2
}
