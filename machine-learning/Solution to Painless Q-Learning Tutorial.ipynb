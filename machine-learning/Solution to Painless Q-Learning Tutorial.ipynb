{
 "cells": [
  {
   "cell_type": "markdown",
   "metadata": {},
   "source": [
    "## Reference\n",
    "Problem:\n",
    "\n",
    "http://mnemstudio.org/path-finding-q-learning-tutorial.htm [Original: Failed to Connect]\n",
    "\n",
    "http://blog.csdn.net/yangziluomu/article/details/50748086 [Translation]"
   ]
  },
  {
   "cell_type": "markdown",
   "metadata": {},
   "source": [
    "Reward Matrix\n",
    "\n",
    "'-1' denoting that no connection between nodes."
   ]
  },
  {
   "cell_type": "code",
   "execution_count": 1,
   "metadata": {
    "collapsed": false
   },
   "outputs": [
    {
     "name": "stdout",
     "output_type": "stream",
     "text": [
      "Reward Matrix:\n",
      " [[ -1  -1  -1  -1   0  -1]\n",
      " [ -1  -1  -1   0  -1 100]\n",
      " [ -1  -1  -1   0  -1  -1]\n",
      " [ -1   0   0  -1   0  -1]\n",
      " [  0  -1  -1   0  -1 100]\n",
      " [ -1   0  -1  -1   0 100]]\n"
     ]
    }
   ],
   "source": [
    "import numpy as np\n",
    "\n",
    "reward_matrix = np.matrix([[-1, -1, -1, -1, 0, -1],\n",
    "                          [-1, -1, -1, 0, -1, 100],\n",
    "                          [-1, -1, -1, 0, -1, -1],\n",
    "                          [-1, 0, 0, -1, 0, -1],\n",
    "                          [0, -1, -1, 0, -1, 100],\n",
    "                          [-1, 0, -1, -1, 0, 100]])\n",
    "print('Reward Matrix:\\n', reward_matrix)"
   ]
  },
  {
   "cell_type": "markdown",
   "metadata": {},
   "source": [
    "$$\\Delta Q(s,a)=R(s,a)+\\gamma\\cdot\\max_{\\tilde{a}}{Q(\\tilde{s},\\tilde{a})}$$\n",
    "\n",
    "$$Q(s,a) = (1-\\alpha)Q(s,a)+\\alpha\\Delta Q(s,a)$$"
   ]
  },
  {
   "cell_type": "code",
   "execution_count": 2,
   "metadata": {
    "collapsed": false
   },
   "outputs": [
    {
     "name": "stdout",
     "output_type": "stream",
     "text": [
      "4 --> 3\n",
      "\n",
      "3 --> 1\n",
      "\n",
      "1 --> 5\n",
      "\n"
     ]
    },
    {
     "data": {
      "text/plain": [
       "array([[  0.,   0.,   0.,   0.,   0.,   0.],\n",
       "       [  0.,   0.,   0.,   0.,   0.,  80.],\n",
       "       [  0.,   0.,   0.,   0.,   0.,   0.],\n",
       "       [  0.,   0.,   0.,   0.,   0.,   0.],\n",
       "       [  0.,   0.,   0.,   0.,   0.,   0.],\n",
       "       [  0.,   0.,   0.,   0.,   0.,   0.]])"
      ]
     },
     "execution_count": 2,
     "metadata": {},
     "output_type": "execute_result"
    }
   ],
   "source": [
    "from random import choice\n",
    "def learn_illustrate(Q, R, learning_rate, alpha_rate):\n",
    "    status = R.shape[1]\n",
    "    \n",
    "    # Select initial status randomly.\n",
    "    present_status = choice(range(0, status,1))\n",
    "    \n",
    "    while present_status != 5: # While present status is not terminal status\n",
    "        avaliable_status  = [i for i,j in enumerate(R[present_status, :].tolist()[0]) if float(j) >= 0]\n",
    "        next_action = choice(avaliable_status)\n",
    "        delta_Q = R[present_status, next_action] + learning_rate * max(Q[next_action])\n",
    "        Q[present_status, next_action] = (1-alpha_rate) * Q[present_status, next_action] + alpha_rate * delta_Q\n",
    "        print('{} --> {}\\n'.format(present_status, next_action))\n",
    "        present_status = next_action    \n",
    "    return Q\n",
    "\n",
    "Q = np.zeros((6, 6))\n",
    "\n",
    "# First iteration\n",
    "learn_illustrate(Q, reward_matrix, 0.6, 0.2)"
   ]
  },
  {
   "cell_type": "markdown",
   "metadata": {},
   "source": [
    "现在我们进行正式的训练，迭代次数为20次。"
   ]
  },
  {
   "cell_type": "code",
   "execution_count": 6,
   "metadata": {
    "collapsed": false
   },
   "outputs": [
    {
     "name": "stdout",
     "output_type": "stream",
     "text": [
      "[[   0.     0.     0.     0.    80.     0. ]\n",
      " [   0.     0.     0.    64.     0.   100. ]\n",
      " [   0.     0.     0.    64.     0.     0. ]\n",
      " [   0.    80.    51.2    0.    80.     0. ]\n",
      " [  64.     0.     0.    64.     0.   100. ]\n",
      " [   0.     0.     0.     0.     0.     0. ]]\n"
     ]
    }
   ],
   "source": [
    "def learn(Q, R, learning_rate, alpha_rate):\n",
    "    status = R.shape[1]\n",
    "    \n",
    "    # Select initial status randomly.\n",
    "    present_status = choice(range(0, status,1))\n",
    "    \n",
    "    while present_status != 5: # While present status is not terminal status\n",
    "        avaliable_status  = [i for i,j in enumerate(R[present_status, :].tolist()[0]) if float(j) >= 0]\n",
    "        next_action = choice(avaliable_status)\n",
    "        delta_Q = R[present_status, next_action] + learning_rate * max(  Q[next_action])\n",
    "        Q[present_status, next_action] = (1-alpha_rate) * Q[present_status, next_action] + alpha_rate * delta_Q\n",
    "        present_status = next_action    \n",
    "    return Q\n",
    "\n",
    "i = 1\n",
    "Q = np.zeros((6, 6))\n",
    "while i <= 400:\n",
    "    Q = learn(Q, reward_matrix, 0.8, 0.2)\n",
    "    i += 1\n",
    "print(Q)"
   ]
  },
  {
   "cell_type": "markdown",
   "metadata": {},
   "source": [
    "最优路径:\n",
    "\n",
    ">       2->3->4->5\n",
    "       "
   ]
  }
 ],
 "metadata": {
  "kernelspec": {
   "display_name": "Python 3",
   "language": "python",
   "name": "python3"
  },
  "language_info": {
   "codemirror_mode": {
    "name": "ipython",
    "version": 3
   },
   "file_extension": ".py",
   "mimetype": "text/x-python",
   "name": "python",
   "nbconvert_exporter": "python",
   "pygments_lexer": "ipython3",
   "version": "3.6.0"
  }
 },
 "nbformat": 4,
 "nbformat_minor": 2
}
