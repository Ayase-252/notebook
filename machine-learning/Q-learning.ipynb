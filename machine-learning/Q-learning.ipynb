{
 "cells": [
  {
   "cell_type": "markdown",
   "metadata": {},
   "source": [
    "## 前情提要\n",
    "\n",
    "1. Q-learning是直接法与策略迭代的结合。\n",
    "\n",
    "## 行为策略与估计策略\n",
    "\n",
    "* 利用行为策略(behavior policy)生成行为。\n",
    "* 行为策略从估计策略(estimation policy)中分离，估计策略用于估计策略的值。\n",
    "\n",
    "## 算法描述\n",
    "### 记号约定\n",
    "* $s_n(i_n,a_n,j_n,g_n)$: 样本，表示在状态为$i_n$时，试验动作$a_n$造成状态转移到$j_n=i_n+1$，代价为$g_n=g(i_n,g_n,j_n)$。"
   ]
  }
 ],
 "metadata": {
  "kernelspec": {
   "display_name": "Python 3",
   "language": "python",
   "name": "python3"
  },
  "language_info": {
   "codemirror_mode": {
    "name": "ipython",
    "version": 3
   },
   "file_extension": ".py",
   "mimetype": "text/x-python",
   "name": "python",
   "nbconvert_exporter": "python",
   "pygments_lexer": "ipython3",
   "version": "3.6.0"
  }
 },
 "nbformat": 4,
 "nbformat_minor": 2
}
