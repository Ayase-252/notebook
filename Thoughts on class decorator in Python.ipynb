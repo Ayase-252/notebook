{
 "cells": [
  {
   "cell_type": "markdown",
   "metadata": {
    "deletable": true,
    "editable": true
   },
   "source": [
    "**Class decorator** is a built-in feature which allows users to apply some extra logic to those existed methods or classes without touching their code.\n",
    "\n",
    "## Basic syntax\n",
    "Class can be decorated as follows:\n",
    "\n",
    "    @decorator(arg1, kwarg=True)\n",
    "    class A\n",
    "        pass\n",
    "    \n",
    "It is semantically equivalent to the following snippet:\n",
    "\n",
    "    A = decorator(arg1, kwarg=True)(A)\n",
    "    \n",
    "If you get confused on what decorator is doing, you could recall the equivalent form and execute it in your brain.\n",
    "\n",
    "## What can class decorator do\n",
    "So, what can class decorator do? "
   ]
  }
 ],
 "metadata": {
  "celltoolbar": "Edit Metadata",
  "kernelspec": {
   "display_name": "Python 3",
   "language": "python",
   "name": "python3"
  },
  "language_info": {
   "codemirror_mode": {
    "name": "ipython",
    "version": 3
   },
   "file_extension": ".py",
   "mimetype": "text/x-python",
   "name": "python",
   "nbconvert_exporter": "python",
   "pygments_lexer": "ipython3",
   "version": "3.5.2+"
  }
 },
 "nbformat": 4,
 "nbformat_minor": 2
}
